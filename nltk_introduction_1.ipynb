{
 "metadata": {
  "name": "",
  "signature": "sha256:54e07e52e3896cf48dc3f840298357a7ea16de40a294267cd0ebcd3221335773"
 },
 "nbformat": 3,
 "nbformat_minor": 0,
 "worksheets": [
  {
   "cells": [
    {
     "cell_type": "code",
     "collapsed": false,
     "input": [
      "from nltk.book import *\n",
      "# this will load all the text data and sent data with which we can work on.\n",
      "# texts() and sents() prints the various text and sentence available.\n",
      "\n",
      "\n",
      "text1.concordance(\"monstrous\", width = 50, lines = 20)\n",
      "# this will seach the work \"monstrous\" in the text1 and displays the word with the near context.\n",
      "# this takes the width and lines as default argument with values 79 and 25 respectively.\n",
      "# 'width' tells about how much context area should be displayed and 'lines' tell how many matches should it display.\n",
      "# example for this is below\n",
      "\n",
      "\n",
      "text2.concordance(\"affection\")\n",
      "# this is with default width 79 and lines 25.\n",
      "text2.concordance(\"affection\", width = 30, lines = 50)\n",
      "# this is with 'width' 30 and 'lines' 50\n",
      "\n",
      "# Play more with these inorder to have a feel about concordance method\n"
     ],
     "language": "python",
     "metadata": {
      "slideshow": {
       "slide_type": "slide"
      }
     },
     "outputs": [
      {
       "output_type": "stream",
       "stream": "stdout",
       "text": [
        "Displaying 11 of 11 matches:\n",
        ", one was of a most monstrous size . ... This cam\n",
        "S . \" Touching that monstrous bulk of the whale o\n",
        "heathenish array of monstrous clubs and spears . \n",
        ", and wondered what monstrous cannibal and savage\n",
        "ed the flood ; most monstrous and most mountainou\n",
        "t at Moby Dick as a monstrous fable , or still wo\n",
        "\" CHAPTER 55 Of the Monstrous Pictures of Whales \n",
        " connexion with the monstrous pictures of whales \n",
        "on those still more monstrous stories of them whi\n",
        "ummaged out of this monstrous cabinet there is no\n",
        "s ; for Whales of a monstrous size are oftentimes\n",
        "Displaying 25 of 79 matches:\n",
        ", however , and , as a mark of his affection for the three girls , he left them\n",
        "t . It was very well known that no affection was ever supposed to exist between\n",
        "deration of politeness or maternal affection on the side of the former , the tw\n",
        "d the suspicion -- the hope of his affection for me may warrant , without impru\n",
        "hich forbade the indulgence of his affection . She knew that his mother neither\n",
        "rd she gave one with still greater affection . Though her late conversation wit\n",
        " can never hope to feel or inspire affection again , and if her home be uncomfo\n",
        "m of the sense , elegance , mutual affection , and domestic comfort of the fami\n",
        ", and which recommended him to her affection beyond every thing else . His soci\n",
        "ween the parties might forward the affection of Mr . Willoughby , an equally st\n",
        " the most pointed assurance of her affection . Elinor could not be surprised at\n",
        "he natural consequence of a strong affection in a young and ardent mind . This \n",
        " opinion . But by an appeal to her affection for her mother , by representing t\n",
        " every alteration of a place which affection had established as perfect with hi\n",
        "e will always have one claim of my affection , which no other can possibly shar\n",
        "f the evening declared at once his affection and happiness . \" Shall we see you\n",
        "ause he took leave of us with less affection than his usual behaviour has shewn\n",
        "ness .\" \" I want no proof of their affection ,\" said Elinor ; \" but of their en\n",
        "onths , without telling her of his affection ;-- that they should part without \n",
        "ould be the natural result of your affection for her . She used to be all unres\n",
        "distinguished Elinor by no mark of affection . Marianne saw and listened with i\n",
        "th no inclination for expense , no affection for strangers , no profession , an\n",
        "till distinguished her by the same affection which once she had felt no doubt o\n",
        "al of her confidence in Edward ' s affection , to the remembrance of every mark\n",
        " was made ? Had he never owned his affection to yourself ?\" \" Oh , no ; but if \n",
        "Displaying 50 of 79 matches:\n",
        "rk of his affection for the t\n",
        "n that no affection was ever \n",
        " maternal affection on the si\n",
        "pe of his affection for me ma\n",
        "ce of his affection . She kne\n",
        "l greater affection . Though \n",
        "r inspire affection again , a\n",
        " , mutual affection , and dom\n",
        "im to her affection beyond ev\n",
        "rward the affection of Mr . W\n",
        "ce of her affection . Elinor \n",
        " a strong affection in a youn\n",
        "al to her affection for her m\n",
        "ace which affection had estab\n",
        "aim of my affection , which n\n",
        " once his affection and happi\n",
        "with less affection than his \n",
        " of their affection ,\" said E\n",
        "er of his affection ;-- that \n",
        "t of your affection for her .\n",
        "o mark of affection . Mariann\n",
        "ense , no affection for stran\n",
        " the same affection which onc\n",
        "dward ' s affection , to the \n",
        "owned his affection to yourse\n",
        "excessive affection and endur\n",
        "y , which affection could sug\n",
        "ent . His affection was all h\n",
        " were his affection for herse\n",
        "r partial affection for herse\n",
        "t her own affection for Edwar\n",
        "ur mutual affection to suppor\n",
        "dward ' s affection and const\n",
        "y without affection for the p\n",
        "h sincere affection on HER si\n",
        " duty and affection to demand\n",
        "ianne ' s affection for Willo\n",
        "t of that affection might be \n",
        "ir mutual affection she had n\n",
        "a tone of affection , held ou\n",
        " peculiar affection whatever \n",
        "o full of affection and confi\n",
        "er , such affection for Willo\n",
        " ; and my affection for her ,\n",
        ", with an affection for him s\n",
        "r . Their affection and pleas\n",
        "thout any affection , and alm\n",
        "e extreme affection for herse\n",
        "essed the affection of a sist\n",
        "ny former affection of Edward\n"
       ]
      }
     ],
     "prompt_number": 7
    },
    {
     "cell_type": "raw",
     "metadata": {},
     "source": [
      "Imporant thing about this is to note that this returns None. \n",
      "\n",
      "i.e \n",
      "\n",
      "a = text2.concordance(\"affection\")\n",
      "print(a) will print just None\n"
     ]
    },
    {
     "cell_type": "code",
     "collapsed": false,
     "input": [
      "\n",
      "text2.similar(\"affection\", num = 5)\n",
      "\n",
      "# similar method will display what are the other words that are in the \n",
      "# similar range of context as the word \"affection\" in this case.\n",
      "\n",
      "# Note that this takes a default argument 'num' which is set to 20. \n",
      "# This is to display the number of similar words. \n",
      "\n",
      "# Like concordance this method are returns None.\n",
      "\n",
      "print(\"With num argument set to default, which is 20\\n\")\n",
      "text2.similar(\"affection\")\n",
      "# displays similar words with default set to 20.\n",
      "text2.similar(\"amaze\", num = 7)\n",
      "# displays \"no matches\" in case of no match found"
     ],
     "language": "python",
     "metadata": {},
     "outputs": [
      {
       "output_type": "stream",
       "stream": "stdout",
       "text": [
        "With default 'num' set to 5\n",
        "\n",
        "marianne heart elinor mother time\n",
        "With num argument set to default, which is 20\n",
        "\n",
        "marianne heart elinor mother time love mind regard spirits , brother\n",
        "sister friends kindness conduct attention it edward engagement life"
       ]
      },
      {
       "output_type": "stream",
       "stream": "stdout",
       "text": [
        "\n",
        "No matches\n"
       ]
      }
     ],
     "prompt_number": 8
    },
    {
     "cell_type": "markdown",
     "metadata": {},
     "source": [
      "common_context method"
     ]
    },
    {
     "cell_type": "code",
     "collapsed": false,
     "input": [
      "text2.common_contexts([\"monstrous\", \"very\"])\n",
      "# common context usage. \n",
      "\n",
      "# This will print away the common context that are shared by both the words\n",
      "# 'monstrous' and 'very'. The _ in output where both monstrous and very could come \n",
      "# as per the text.\n"
     ],
     "language": "python",
     "metadata": {},
     "outputs": [
      {
       "output_type": "stream",
       "stream": "stdout",
       "text": [
        "a_pretty is_pretty a_lucky am_glad be_glad\n"
       ]
      },
      {
       "metadata": {},
       "output_type": "pyout",
       "prompt_number": 3,
       "text": [
        "\"\\nThis will print away the common context that are shared by both the words\\n'monstrous' and 'very'. The _ in output where both monstrous and very could come \\nas per the text.\\n\""
       ]
      }
     ],
     "prompt_number": 3
    },
    {
     "cell_type": "code",
     "collapsed": false,
     "input": [],
     "language": "python",
     "metadata": {},
     "outputs": []
    }
   ],
   "metadata": {}
  }
 ]
}