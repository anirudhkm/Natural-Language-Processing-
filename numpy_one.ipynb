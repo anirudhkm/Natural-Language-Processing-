{
 "cells": [
  {
   "cell_type": "code",
   "execution_count": 1,
   "metadata": {
    "collapsed": false
   },
   "outputs": [],
   "source": [
    "import numpy as np\n",
    "# Import the numpy python library\n"
   ]
  },
  {
   "cell_type": "markdown",
   "metadata": {},
   "source": [
    "# Indexing, Slicing and iteration"
   ]
  },
  {
   "cell_type": "code",
   "execution_count": 11,
   "metadata": {
    "collapsed": false
   },
   "outputs": [
    {
     "name": "stdout",
     "output_type": "stream",
     "text": [
      "[[[ 0  1  2  3  4]\n",
      "  [ 5  6  7  8  9]]\n",
      "\n",
      " [[10 11 12 13 14]\n",
      "  [15 16 17 18 19]]\n",
      "\n",
      " [[20 21 22 23 24]\n",
      "  [25 26 27 28 29]]\n",
      "\n",
      " [[30 31 32 33 34]\n",
      "  [35 36 37 38 39]]\n",
      "\n",
      " [[40 41 42 43 44]\n",
      "  [45 46 47 48 49]]]\n"
     ]
    }
   ],
   "source": [
    "a = np.arange(50).reshape(5, 2, 5)\n",
    "# create a numpy array\n",
    "print a"
   ]
  },
  {
   "cell_type": "markdown",
   "metadata": {},
   "source": [
    "### Indexing"
   ]
  },
  {
   "cell_type": "code",
   "execution_count": 36,
   "metadata": {
    "collapsed": false,
    "scrolled": true
   },
   "outputs": [
    {
     "name": "stdout",
     "output_type": "stream",
     "text": [
      "a[1]\n",
      "\n",
      "[[10 11 12 13 14]\n",
      " [15 16 17 18 19]]\n",
      "\n",
      "a[1][1][2]\n",
      "\n",
      "17\n",
      "17\n"
     ]
    }
   ],
   "source": [
    "print 'a[1]\\n\\n', a[1]\n",
    "print '\\na[1][1][2]\\n\\n', a[1][1][2]\n",
    "# Another way to represent the above index is as follows\n",
    "print a[1,1,2]\n",
    "# My personal preference is to use the square brackets"
   ]
  },
  {
   "cell_type": "code",
   "execution_count": 33,
   "metadata": {
    "collapsed": false,
    "scrolled": true
   },
   "outputs": [
    {
     "name": "stdout",
     "output_type": "stream",
     "text": [
      "[[ 0  1  2  3]\n",
      " [10 11 12 13]\n",
      " [20 21 22 23]\n",
      " [30 31 32 33]\n",
      " [40 41 42 43]]\n"
     ]
    }
   ],
   "source": [
    "# Multidimensional array creation\n",
    "b = np.fromfunction(function = lambda x, y : 10*x + y, shape = (5, 4), dtype = int)\n",
    "print b\n",
    "# print the array"
   ]
  },
  {
   "cell_type": "markdown",
   "metadata": {},
   "source": [
    "## Slicing\n"
   ]
  },
  {
   "cell_type": "code",
   "execution_count": 57,
   "metadata": {
    "collapsed": false,
    "scrolled": true
   },
   "outputs": [
    {
     "name": "stdout",
     "output_type": "stream",
     "text": [
      "[[11 12]\n",
      " [21 22]\n",
      " [31 32]] \n",
      "\n",
      "\n",
      "[[10 12]\n",
      " [30 32]] \n",
      "\n",
      "\n"
     ]
    }
   ],
   "source": [
    "print b[1:4,1:3], '\\n\\n'\n",
    "# slice from row indices 1 to 3 and column indices 1 to 2... \n",
    "print b[1:4:2, ::2], '\\n\\n'\n",
    "# slice from row indices 1 to 3 and column indices 0 to 4 with step 2 applied to both.."
   ]
  },
  {
   "cell_type": "code",
   "execution_count": 74,
   "metadata": {
    "collapsed": false
   },
   "outputs": [
    {
     "name": "stdout",
     "output_type": "stream",
     "text": [
      "[[[ 0  1  2  3  4]\n",
      "  [ 5  6  7  8  9]]\n",
      "\n",
      " [[10 11 12 13 14]\n",
      "  [15 16 17 18 19]]\n",
      "\n",
      " [[20 21 22 23 24]\n",
      "  [25 26 27 28 29]]\n",
      "\n",
      " [[30 31 32 33 34]\n",
      "  [35 36 37 38 39]]\n",
      "\n",
      " [[40 41 42 43 44]\n",
      "  [45 46 47 48 49]]] \n",
      "---------------------------------\n",
      "[[ 5  7  9]\n",
      " [25 27 29]]\n",
      "---------------------------------\n"
     ]
    }
   ],
   "source": [
    "print a, '\\n---------------------------------'\n",
    "# printing out array \"a\".\n",
    "print a[0:4:2, 1, :5:2]\n",
    "# slicing out the 3-D array with step applied\n",
    "print '---------------------------------'"
   ]
  },
  {
   "cell_type": "markdown",
   "metadata": {},
   "source": [
    "## The dot notation with numpy\n",
    "\n",
    "The \"...\" (three continous dots in the numpy slicing corresponds to as many colons needed by the numpy array to fullfill the slicing criteria..).\n",
    "\n",
    "Examples are given below."
   ]
  },
  {
   "cell_type": "code",
   "execution_count": 94,
   "metadata": {
    "collapsed": false,
    "scrolled": true
   },
   "outputs": [
    {
     "name": "stdout",
     "output_type": "stream",
     "text": [
      "[[[[  0   1   2   3]\n",
      "   [  4   5   6   7]\n",
      "   [  8   9  10  11]\n",
      "   [ 12  13  14  15]]\n",
      "\n",
      "  [[ 16  17  18  19]\n",
      "   [ 20  21  22  23]\n",
      "   [ 24  25  26  27]\n",
      "   [ 28  29  30  31]]\n",
      "\n",
      "  [[ 32  33  34  35]\n",
      "   [ 36  37  38  39]\n",
      "   [ 40  41  42  43]\n",
      "   [ 44  45  46  47]]\n",
      "\n",
      "  [[ 48  49  50  51]\n",
      "   [ 52  53  54  55]\n",
      "   [ 56  57  58  59]\n",
      "   [ 60  61  62  63]]]\n",
      "\n",
      "\n",
      " [[[ 64  65  66  67]\n",
      "   [ 68  69  70  71]\n",
      "   [ 72  73  74  75]\n",
      "   [ 76  77  78  79]]\n",
      "\n",
      "  [[ 80  81  82  83]\n",
      "   [ 84  85  86  87]\n",
      "   [ 88  89  90  91]\n",
      "   [ 92  93  94  95]]\n",
      "\n",
      "  [[ 96  97  98  99]\n",
      "   [100 101 102 103]\n",
      "   [104 105 106 107]\n",
      "   [108 109 110 111]]\n",
      "\n",
      "  [[112 113 114 115]\n",
      "   [116 117 118 119]\n",
      "   [120 121 122 123]\n",
      "   [124 125 126 127]]]\n",
      "\n",
      "\n",
      " [[[128 129 130 131]\n",
      "   [132 133 134 135]\n",
      "   [136 137 138 139]\n",
      "   [140 141 142 143]]\n",
      "\n",
      "  [[144 145 146 147]\n",
      "   [148 149 150 151]\n",
      "   [152 153 154 155]\n",
      "   [156 157 158 159]]\n",
      "\n",
      "  [[160 161 162 163]\n",
      "   [164 165 166 167]\n",
      "   [168 169 170 171]\n",
      "   [172 173 174 175]]\n",
      "\n",
      "  [[176 177 178 179]\n",
      "   [180 181 182 183]\n",
      "   [184 185 186 187]\n",
      "   [188 189 190 191]]]\n",
      "\n",
      "\n",
      " [[[192 193 194 195]\n",
      "   [196 197 198 199]\n",
      "   [200 201 202 203]\n",
      "   [204 205 206 207]]\n",
      "\n",
      "  [[208 209 210 211]\n",
      "   [212 213 214 215]\n",
      "   [216 217 218 219]\n",
      "   [220 221 222 223]]\n",
      "\n",
      "  [[224 225 226 227]\n",
      "   [228 229 230 231]\n",
      "   [232 233 234 235]\n",
      "   [236 237 238 239]]\n",
      "\n",
      "  [[240 241 242 243]\n",
      "   [244 245 246 247]\n",
      "   [248 249 250 251]\n",
      "   [252 253 254 255]]]]\n"
     ]
    }
   ],
   "source": [
    "c = np.arange(256).reshape(4,4,4,4)\n",
    "# create a 5-D array\n",
    "print c \n",
    "# print out the array"
   ]
  },
  {
   "cell_type": "code",
   "execution_count": 100,
   "metadata": {
    "collapsed": false,
    "scrolled": true
   },
   "outputs": [
    {
     "name": "stdout",
     "output_type": "stream",
     "text": [
      "[[[[ 64  65  66  67]\n",
      "   [ 68  69  70  71]\n",
      "   [ 72  73  74  75]\n",
      "   [ 76  77  78  79]]\n",
      "\n",
      "  [[ 80  81  82  83]\n",
      "   [ 84  85  86  87]\n",
      "   [ 88  89  90  91]\n",
      "   [ 92  93  94  95]]\n",
      "\n",
      "  [[ 96  97  98  99]\n",
      "   [100 101 102 103]\n",
      "   [104 105 106 107]\n",
      "   [108 109 110 111]]\n",
      "\n",
      "  [[112 113 114 115]\n",
      "   [116 117 118 119]\n",
      "   [120 121 122 123]\n",
      "   [124 125 126 127]]]\n",
      "\n",
      "\n",
      " [[[192 193 194 195]\n",
      "   [196 197 198 199]\n",
      "   [200 201 202 203]\n",
      "   [204 205 206 207]]\n",
      "\n",
      "  [[208 209 210 211]\n",
      "   [212 213 214 215]\n",
      "   [216 217 218 219]\n",
      "   [220 221 222 223]]\n",
      "\n",
      "  [[224 225 226 227]\n",
      "   [228 229 230 231]\n",
      "   [232 233 234 235]\n",
      "   [236 237 238 239]]\n",
      "\n",
      "  [[240 241 242 243]\n",
      "   [244 245 246 247]\n",
      "   [248 249 250 251]\n",
      "   [252 253 254 255]]]]\n",
      "----------------------------\n",
      "[[ 69  85 101 117]\n",
      " [197 213 229 245]]\n",
      "----------------------------\n"
     ]
    }
   ],
   "source": [
    "# slicing with the dot notation.\n",
    "print c[1::2, ...]\n",
    "# display the array\n",
    "print '----------------------------'\n",
    "print c[1::2, ..., 1, 1]\n",
    "print '----------------------------'"
   ]
  },
  {
   "cell_type": "markdown",
   "metadata": {},
   "source": [
    "## Iteration of arrays\n",
    "\n"
   ]
  },
  {
   "cell_type": "code",
   "execution_count": 115,
   "metadata": {
    "collapsed": false
   },
   "outputs": [
    {
     "name": "stdout",
     "output_type": "stream",
     "text": [
      "[[ 0  1  2  3]\n",
      " [10 11 12 13]\n",
      " [20 21 22 23]\n",
      " [30 31 32 33]\n",
      " [40 41 42 43]]\n",
      "Iteration through each row\n",
      "[0 1 2 3]\n",
      "[10 11 12 13]\n",
      "[20 21 22 23]\n",
      "[30 31 32 33]\n",
      "[40 41 42 43]\n",
      "Iterate through each column\n",
      "[ 0 10 20 30 40]\n",
      "[ 1 11 21 31 41]\n",
      "[ 2 12 22 32 42]\n",
      "[ 3 13 23 33 43]\n",
      "Iterate through each element using 'flat' which returns an flattened iterator, only iterates row wise..\n",
      "0 1 2 3 10 11 12 13 20 21 22 23 30 31 32 33 40 41 42 43 \n",
      "Iterate through each element using flatten function, with order C(Contigous) meaning row wise\n",
      "0 1 2 3 10 11 12 13 20 21 22 23 30 31 32 33 40 41 42 43 \n",
      "Iterate through each element using flatten function, with order F(Fortran) meaning column wise\n",
      "0 10 20 30 40 1 11 21 31 41 2 12 22 32 42 3 13 23 33 43\n"
     ]
    }
   ],
   "source": [
    "print b\n",
    "# print out array b\n",
    "\n",
    "print \"Iteration through each row\"\n",
    "for row in b:\n",
    "    # iterate through the rows\n",
    "    print row\n",
    "    # print each row\n",
    "    \n",
    "print \"Iterate through each column\"\n",
    "for col in b.T:\n",
    "    # iterate through each column\n",
    "    print col\n",
    "    # print each col\n",
    "    \n",
    "print \"Iterate through each element using 'flat' which returns an flattened iterator, only iterates row wise..\"\n",
    "for ele in b.flat:\n",
    "    # iterate through each element\n",
    "    # elements are iterated based on each row\n",
    "    print ele,\n",
    "    \n",
    "print \"\\nIterate through each element using flatten function, with order C(Contigous) meaning row wise\"\n",
    "for ele in b.flatten(order = 'C'):\n",
    "    # copy of flattened array\n",
    "    print ele, \n",
    "    \n",
    "print \"\\nIterate through each element using flatten function, with order F(Fortran) meaning column wise\"\n",
    "for ele in b.flatten(order = 'F'):\n",
    "    # copy of the flattened array\n",
    "    print ele,"
   ]
  },
  {
   "cell_type": "markdown",
   "metadata": {},
   "source": [
    "# Shape manipulation of numpy array\n",
    "\n",
    "The following are the methods by which the shape of the array can be modified as follows\n",
    "\n",
    "1. ravel - Helps in flattening the array, with the order argument we can specify the row(C - Contigous) or column(F - Fortran) flatten.\n",
    "2. flatten and flat as we saw above.\n",
    "3. shape: Directly specifying the shape of the array, can have an effect too.\n",
    "4. T: taking the transpose of the array.\n",
    "5. reshape: The reshape takes the arguments of the shape and returns a new modified array. Giving -1 as an argument makes the reshape method itself to work the shape of the array. The reshape takes the order as an argument too.\n",
    "6. resize: The resize takes the desired shape as an argument and it returns None and directly modifies the array itself. Like how the sort works on array or on a list. More to read on the documentation."
   ]
  },
  {
   "cell_type": "code",
   "execution_count": 132,
   "metadata": {
    "collapsed": false
   },
   "outputs": [
    {
     "name": "stdout",
     "output_type": "stream",
     "text": [
      "[[ 4.  6.  0.  4.]\n",
      " [ 9.  9.  4.  4.]\n",
      " [ 5.  5.  9.  6.]]\n",
      "Shape (3, 4)\n",
      "Rank 2\n"
     ]
    }
   ],
   "source": [
    "arr = np.floor(10*np.random.random((3,4)))\n",
    "# create an array\n",
    "print arr\n",
    "# print out the array\n",
    "print \"Shape\", arr.shape\n",
    "# print the shape of the array\n",
    "print \"Rank\", arr.ndim\n",
    "# print the no of dim of the array or its rank"
   ]
  },
  {
   "cell_type": "code",
   "execution_count": 133,
   "metadata": {
    "collapsed": false
   },
   "outputs": [
    {
     "name": "stdout",
     "output_type": "stream",
     "text": [
      "The ravel method\n",
      "Row wise flatten [ 4.  6.  0.  4.  9.  9.  4.  4.  5.  5.  9.  6.]\n",
      "Column wise flatten [ 4.  9.  5.  6.  9.  5.  0.  4.  9.  4.  4.  6.]\n"
     ]
    }
   ],
   "source": [
    "print \"The ravel method\"\n",
    "# The ravel method is used to flatten the array.\n",
    "print \"Row wise flatten\", arr.ravel(order = 'C') \n",
    "# print the array row wise (the default - Contigous order)\n",
    "print \"Column wise flatten\", arr.ravel(order = 'F')\n",
    "# print the array column wise flattened (Fortran order)"
   ]
  },
  {
   "cell_type": "code",
   "execution_count": 134,
   "metadata": {
    "collapsed": false
   },
   "outputs": [
    {
     "name": "stdout",
     "output_type": "stream",
     "text": [
      "[[ 4.  6.  0.  4.]\n",
      " [ 9.  9.  4.  4.]\n",
      " [ 5.  5.  9.  6.]]\n",
      "Shape (3, 4)\n",
      "[[ 4.  6.]\n",
      " [ 0.  4.]\n",
      " [ 9.  9.]\n",
      " [ 4.  4.]\n",
      " [ 5.  5.]\n",
      " [ 9.  6.]]\n",
      "New shape (6, 2)\n"
     ]
    }
   ],
   "source": [
    "# Directly changing the shape of the array\n",
    "print arr\n",
    "print \"Shape\", arr.shape\n",
    "arr.shape = (6, 2)\n",
    "# change the shape of the array to (6,2)\n",
    "print arr\n",
    "print \"New shape\", arr.shape"
   ]
  },
  {
   "cell_type": "code",
   "execution_count": 135,
   "metadata": {
    "collapsed": false
   },
   "outputs": [
    {
     "name": "stdout",
     "output_type": "stream",
     "text": [
      "[[ 4.  0.  9.  4.  5.  9.]\n",
      " [ 6.  4.  9.  4.  5.  6.]]\n",
      "Shape with transpose (2, 6)\n"
     ]
    }
   ],
   "source": [
    "# change shape by taking the transpose of the array\n",
    "print arr.T\n",
    "print \"Shape with transpose\", arr.T.shape"
   ]
  },
  {
   "cell_type": "code",
   "execution_count": 142,
   "metadata": {
    "collapsed": false
   },
   "outputs": [
    {
     "name": "stdout",
     "output_type": "stream",
     "text": [
      "Array\n",
      "[[ 4.  6.]\n",
      " [ 0.  4.]\n",
      " [ 9.  9.]\n",
      " [ 4.  4.]\n",
      " [ 5.  5.]\n",
      " [ 9.  6.]]\n",
      "Reshaped to (4, 3)\n",
      "[[ 4.  6.  0.]\n",
      " [ 4.  9.  9.]\n",
      " [ 4.  4.  5.]\n",
      " [ 5.  9.  6.]]\n",
      "Reshaped with (4, 3)\n",
      "[[ 4.  5.  9.]\n",
      " [ 0.  9.  4.]\n",
      " [ 9.  6.  5.]\n",
      " [ 4.  4.  6.]]\n"
     ]
    }
   ],
   "source": [
    "# Reshape method\n",
    "print \"Array\\n\", arr\n",
    "\n",
    "print \"Reshaped to (4, 3)\\n\", arr.reshape(4, 3, order = 'C')\n",
    "# Reshaped with row wise order (C - contigous)\n",
    "print \"Reshaped with (4, 3)\\n\", arr.reshape(4, 3, order = 'F')\n",
    "# reshaped with column wise order F - Fortran"
   ]
  },
  {
   "cell_type": "code",
   "execution_count": 143,
   "metadata": {
    "collapsed": false
   },
   "outputs": [
    {
     "name": "stdout",
     "output_type": "stream",
     "text": [
      "Array\n",
      "[[ 4.  6.]\n",
      " [ 0.  4.]\n",
      " [ 9.  9.]\n",
      " [ 4.  4.]\n",
      " [ 5.  5.]\n",
      " [ 9.  6.]]\n"
     ]
    }
   ],
   "source": [
    "# resize method\n",
    "print \"Array\\n\", arr\n"
   ]
  }
 ],
 "metadata": {
  "kernelspec": {
   "display_name": "Python 2",
   "language": "python",
   "name": "python2"
  },
  "language_info": {
   "codemirror_mode": {
    "name": "ipython",
    "version": 2
   },
   "file_extension": ".py",
   "mimetype": "text/x-python",
   "name": "python",
   "nbconvert_exporter": "python",
   "pygments_lexer": "ipython2",
   "version": "2.7.11"
  }
 },
 "nbformat": 4,
 "nbformat_minor": 0
}
